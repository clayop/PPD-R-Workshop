{
 "cells": [
  {
   "cell_type": "markdown",
   "metadata": {},
   "source": [
    "# Working Ennvironment Setup"
   ]
  },
  {
   "cell_type": "code",
   "execution_count": null,
   "metadata": {},
   "outputs": [],
   "source": [
    "library(foreign)    # Importing package\n",
    "library(psych)"
   ]
  },
  {
   "cell_type": "markdown",
   "metadata": {},
   "source": [
    "```\n",
    "Error: package or namespace load failed for ‘psych’ in loadNamespace(j <- i[[1L]], c(lib.loc, .libPaths()), versionCheck = vI[[j]]):\n",
    " there is no package called ‘mnormt’\n",
    " ```"
   ]
  },
  {
   "cell_type": "code",
   "execution_count": null,
   "metadata": {
    "scrolled": false
   },
   "outputs": [],
   "source": [
    "install.packages(\"psych\")    # Installing missing package"
   ]
  },
  {
   "cell_type": "code",
   "execution_count": null,
   "metadata": {},
   "outputs": [],
   "source": [
    "getwd()    # Where is the currnet working directory?"
   ]
  },
  {
   "cell_type": "markdown",
   "metadata": {},
   "source": [
    "```\n",
    "[1] \"C:/Users/clayop/Documents\"\n",
    "```"
   ]
  },
  {
   "cell_type": "code",
   "execution_count": null,
   "metadata": {
    "scrolled": false
   },
   "outputs": [],
   "source": [
    "setwd(\"D:/Presentations/2018_PPD_R_Workshop\")    # Changing working directory\n",
    "getwd()"
   ]
  },
  {
   "cell_type": "code",
   "execution_count": null,
   "metadata": {},
   "outputs": [],
   "source": [
    "options(scipen=999)    # Disabling scientific notation"
   ]
  },
  {
   "cell_type": "markdown",
   "metadata": {},
   "source": [
    "# Importing Data"
   ]
  },
  {
   "cell_type": "markdown",
   "metadata": {},
   "source": [
    "You need to run `library(foreign)` to `read.csv`"
   ]
  },
  {
   "cell_type": "code",
   "execution_count": null,
   "metadata": {},
   "outputs": [],
   "source": [
    "dp02 <- read.csv(\"./Data/ACS_16_5YR_DP02/ACS_16_5YR_DP02_with_ann.csv\", stringsAsFactors=FALSE)\n",
    "dp03 <- read.csv(\"./Data/ACS_16_5YR_DP03/ACS_16_5YR_DP03_with_ann.csv\", stringsAsFactors=FALSE)"
   ]
  },
  {
   "cell_type": "markdown",
   "metadata": {},
   "source": [
    "Let's do some checks"
   ]
  },
  {
   "cell_type": "code",
   "execution_count": null,
   "metadata": {},
   "outputs": [],
   "source": [
    "nrow(dp02)    # Number of rows\n",
    "nrow(dp03)"
   ]
  },
  {
   "cell_type": "code",
   "execution_count": null,
   "metadata": {},
   "outputs": [],
   "source": [
    "head(dp02)    # First lines (default:5)\n",
    "head(dp03, 10)    # First 10 lines\n",
    "tail(dp02)    # Last lines"
   ]
  },
  {
   "cell_type": "markdown",
   "metadata": {},
   "source": [
    "Oops! we have a wrong first row. Let's remove the first row later"
   ]
  },
  {
   "cell_type": "markdown",
   "metadata": {},
   "source": [
    "Is a variable encoded in character or number?"
   ]
  },
  {
   "cell_type": "code",
   "execution_count": null,
   "metadata": {
    "scrolled": true
   },
   "outputs": [],
   "source": [
    "dp02$HC01_VC03    # Dataframe$Variable\n",
    "head(dp02$HC01_VC03)\n",
    "class(dp02$HC01_VC03)"
   ]
  },
  {
   "cell_type": "markdown",
   "metadata": {},
   "source": [
    "# Basic Data Manupulation"
   ]
  },
  {
   "cell_type": "markdown",
   "metadata": {},
   "source": [
    "How to index data?"
   ]
  },
  {
   "cell_type": "code",
   "execution_count": null,
   "metadata": {},
   "outputs": [],
   "source": [
    "dp02[1,]    # First row of dataframe\n",
    "dp02[,1]    # First column of datafrome\n",
    "dp02[3,5]"
   ]
  },
  {
   "cell_type": "markdown",
   "metadata": {},
   "source": [
    "Let's remove the annoying first row"
   ]
  },
  {
   "cell_type": "code",
   "execution_count": null,
   "metadata": {
    "scrolled": false
   },
   "outputs": [],
   "source": [
    "dp02a <- dp02[-1,]\n",
    "dp03a <- dp03[-1,]\n",
    "head(dp02a)"
   ]
  },
  {
   "cell_type": "code",
   "execution_count": null,
   "metadata": {
    "scrolled": false
   },
   "outputs": [],
   "source": [
    "dp02a[c(1:5),]    # Indexing by range\n",
    "dp03a[c(1:5),c(2:3)]"
   ]
  },
  {
   "cell_type": "code",
   "execution_count": null,
   "metadata": {
    "scrolled": false
   },
   "outputs": [],
   "source": [
    "head(dp02a[,\"GEO.id\"])    # By variable name"
   ]
  },
  {
   "cell_type": "code",
   "execution_count": null,
   "metadata": {},
   "outputs": [],
   "source": [
    "dp02b <- dp02a[,c(\"GEO.id\", \"HC01_VC03\", \"HC01_VC21\", \"HC01_VC26\", \"HC01_VC85\", \"HC01_VC92\")]    # Check \"ACS_16_5YR_DP02_metadata.csv\"\n",
    "dp03b <- dp03a[,c(\"GEO.id\", \"HC01_VC03\", \"HC01_VC09\", \"HC01_VC36\", \"HC01_VC85\", \"HC01_VC161\")]    # Check \"ACS_16_5YR_DP03_metadata.csv\""
   ]
  },
  {
   "cell_type": "markdown",
   "metadata": {},
   "source": [
    "# Advanced Data Manipulation"
   ]
  },
  {
   "cell_type": "markdown",
   "metadata": {},
   "source": [
    "## Rename variable names"
   ]
  },
  {
   "cell_type": "code",
   "execution_count": null,
   "metadata": {
    "scrolled": true
   },
   "outputs": [],
   "source": [
    "dp02c <- rename(dp02b, \"TOTHH\"=\"HC01_VC03\", \"AVRHHSIZE\"=\"HC01_VC21\", \"TOTPOP\"=\"HC01_VC26\", \"POP25OVER\"=\"HC01_VC85\", \"POP25GRADDEGREE\"=\"HC01_VC92\")\n",
    "dp03c <- rename(dp03b, \"POP16OVER\"=\"HC01_VC03\", \"POP16NOLABOR\"=\"HC01_VC09\", \"COMMTIME\"=\"HC01_VC36\", \"MEDHHINC\"=\"HC01_VC85\", \"POVERTY\"=\"HC01_VC161\")\n",
    "head(dp02c)\n",
    "head(dp03c)"
   ]
  },
  {
   "cell_type": "markdown",
   "metadata": {},
   "source": [
    "## Modify variable class / Dealing with NA"
   ]
  },
  {
   "cell_type": "code",
   "execution_count": null,
   "metadata": {
    "scrolled": false
   },
   "outputs": [],
   "source": [
    "dp02c$TOTPOP/dp02c$TOTHH"
   ]
  },
  {
   "cell_type": "markdown",
   "metadata": {},
   "source": [
    "```\n",
    "Error in dp02b$TOTPOP/dp02b$TOTHH: 이항연산자에 수치가 아닌 인수입니다\n",
    "Traceback:\n",
    "```"
   ]
  },
  {
   "cell_type": "code",
   "execution_count": null,
   "metadata": {
    "scrolled": false
   },
   "outputs": [],
   "source": [
    "class(dp02c$TOTPOP)\n",
    "class(dp02c$TOTHH)\n",
    "sapply(dp03c, class)"
   ]
  },
  {
   "cell_type": "code",
   "execution_count": null,
   "metadata": {},
   "outputs": [],
   "source": [
    "dp02d <- dp02c\n",
    "dp03d <- dp03c"
   ]
  },
  {
   "cell_type": "code",
   "execution_count": null,
   "metadata": {},
   "outputs": [],
   "source": [
    "dp02d$TOTPOP <- as.numeric(dp02d$TOTPOP)\n",
    "dp02d$TOTHH <- as.numeric(dp02d$TOTHH)"
   ]
  },
  {
   "cell_type": "code",
   "execution_count": null,
   "metadata": {
    "scrolled": true
   },
   "outputs": [],
   "source": [
    "dp02d$AVRHHSIZE2 <- dp02d$TOTPOP/dp02d$TOTHH\n",
    "head(dp02d)"
   ]
  },
  {
   "cell_type": "code",
   "execution_count": null,
   "metadata": {
    "scrolled": true
   },
   "outputs": [],
   "source": [
    "dp02d$AVRHHSIZE2 <- NULL\n",
    "head(dp02d)"
   ]
  },
  {
   "cell_type": "code",
   "execution_count": null,
   "metadata": {
    "scrolled": true
   },
   "outputs": [],
   "source": [
    "dp03d[,c(2:5)] <- sapply(dp03d[,c(2:5)], as.numeric)"
   ]
  },
  {
   "cell_type": "code",
   "execution_count": null,
   "metadata": {
    "scrolled": true
   },
   "outputs": [],
   "source": [
    "sapply(dp03d,class)"
   ]
  },
  {
   "cell_type": "code",
   "execution_count": null,
   "metadata": {
    "scrolled": true
   },
   "outputs": [],
   "source": [
    "dp03d[!complete.cases(dp03d),]"
   ]
  },
  {
   "cell_type": "code",
   "execution_count": null,
   "metadata": {
    "scrolled": true
   },
   "outputs": [],
   "source": [
    "dp03c[\"133\",]\n",
    "dp03c[\"362\",]\n",
    "dp03c[\"3078\",]\n",
    "dp03c[\"5658\",]\n",
    "dp03c[row.names(dp03d[!complete.cases(dp03d),]),]"
   ]
  },
  {
   "cell_type": "code",
   "execution_count": null,
   "metadata": {},
   "outputs": [],
   "source": [
    "dp03d <- dp03c"
   ]
  },
  {
   "cell_type": "code",
   "execution_count": null,
   "metadata": {},
   "outputs": [],
   "source": [
    "dp03d$MEDHHINC <- ifelse(dp03d$MEDHHINC==\"250,000+\", 250000, dp03d$MEDHHINC)\n",
    "dp03d$MEDHHINC <- ifelse(dp03d$MEDHHINC==\"-\", -9, dp03d$MEDHHINC)\n",
    "dp03d$COMMTIME <- ifelse(dp03d$COMMTIME==\"-\", -9, dp03d$COMMTIME)\n",
    "dp03d$COMMTIME <- ifelse(dp03d$COMMTIME==\"N\", -9, dp03d$COMMTIME)"
   ]
  },
  {
   "cell_type": "code",
   "execution_count": null,
   "metadata": {
    "scrolled": true
   },
   "outputs": [],
   "source": [
    "sapply(dp03d,class)\n",
    "dp03d[,c(2:5)] <- sapply(dp03d[,c(2:5)], as.numeric)"
   ]
  },
  {
   "cell_type": "code",
   "execution_count": null,
   "metadata": {
    "scrolled": true
   },
   "outputs": [],
   "source": [
    "dp03d[!complete.cases(dp03d),]"
   ]
  },
  {
   "cell_type": "code",
   "execution_count": null,
   "metadata": {
    "scrolled": false
   },
   "outputs": [],
   "source": [
    "sapply(dp02d,class)\n",
    "dp02d[,c(2:6)] <- sapply(dp02d[,c(2:6)], as.numeric)"
   ]
  },
  {
   "cell_type": "code",
   "execution_count": null,
   "metadata": {
    "scrolled": true
   },
   "outputs": [],
   "source": [
    "dp02d[!complete.cases(dp02d),]\n",
    "nrow(dp02d)\n",
    "nrow(dp02d[!complete.cases(dp02d),])"
   ]
  },
  {
   "cell_type": "code",
   "execution_count": null,
   "metadata": {
    "scrolled": true
   },
   "outputs": [],
   "source": [
    "dp02c[\"420\",]\n",
    "dp02c[\"5709\",]\n",
    "dp02c[\"8061\",]"
   ]
  },
  {
   "cell_type": "code",
   "execution_count": null,
   "metadata": {
    "scrolled": true
   },
   "outputs": [],
   "source": [
    "dp02e <- na.omit(dp02d)"
   ]
  },
  {
   "cell_type": "code",
   "execution_count": null,
   "metadata": {
    "scrolled": true
   },
   "outputs": [],
   "source": [
    "dp02e[!complete.cases(dp02e),]\n",
    "nrow(dp02e)\n",
    "nrow(dp02e[!complete.cases(dp02e),])"
   ]
  },
  {
   "cell_type": "markdown",
   "metadata": {},
   "source": [
    "## Subset dataframe"
   ]
  },
  {
   "cell_type": "code",
   "execution_count": null,
   "metadata": {},
   "outputs": [],
   "source": [
    "subset(dp03d, COMMTIME == -9)\n",
    "nrow(subset(dp03d, COMMTIME == -9))"
   ]
  },
  {
   "cell_type": "code",
   "execution_count": null,
   "metadata": {},
   "outputs": [],
   "source": [
    "subset(dp03d, COMMTIME == -9 & MEDHHINC == -9)\n",
    "subset(dp03d, COMMTIME == -9 | MEDHHINC == -9)\n",
    "subset(dp03d, COMMTIME != -9 & MEDHHINC != -9)\n",
    "nrow(subset(dp03d, COMMTIME == -9 & MEDHHINC == -9))\n",
    "nrow(subset(dp03d, COMMTIME == -9 | MEDHHINC == -9))\n",
    "nrow(subset(dp03d, COMMTIME != -9 & MEDHHINC != -9))"
   ]
  },
  {
   "cell_type": "code",
   "execution_count": null,
   "metadata": {},
   "outputs": [],
   "source": [
    "dp03e <- subset(dp03d, COMMTIME != -9 & MEDHHINC != -9)"
   ]
  },
  {
   "cell_type": "markdown",
   "metadata": {},
   "source": [
    "# Super Advanced Data Manipulation<sup>TM</sup>"
   ]
  },
  {
   "cell_type": "code",
   "execution_count": null,
   "metadata": {},
   "outputs": [],
   "source": [
    "head(dp02e)\n",
    "head(dp03e)"
   ]
  },
  {
   "cell_type": "code",
   "execution_count": null,
   "metadata": {},
   "outputs": [],
   "source": [
    "dp02e$GEOID <- substr(dp02e$GEO.id,10,20)\n",
    "dp03e$GEOID <- substr(dp03e$GEO.id,10,20)\n",
    "head(dp02e)\n",
    "head(dp03e)"
   ]
  },
  {
   "cell_type": "code",
   "execution_count": null,
   "metadata": {},
   "outputs": [],
   "source": [
    "dp02e$COUNTY <- substr(dp02e$GEOID,3,5)\n",
    "dp03e$COUNTY <- substr(dp03e$GEOID,3,5)\n",
    "dp02e$TRACT <- substr(dp02e$GEOID,6,11)\n",
    "dp03e$TRACT <- substr(dp03e$GEOID,6,11)\n",
    "head(dp02e)\n",
    "head(dp03e)"
   ]
  },
  {
   "cell_type": "code",
   "execution_count": null,
   "metadata": {},
   "outputs": [],
   "source": [
    "dp02e$GEOID2 <- paste(dp02e$COUNTY, dp02e$TRACT, sep = \"\")\n",
    "head(dp02e)\n",
    "dp02e$GEOID2 <- NULL"
   ]
  },
  {
   "cell_type": "code",
   "execution_count": null,
   "metadata": {},
   "outputs": [],
   "source": [
    "library(dplyr)"
   ]
  },
  {
   "cell_type": "code",
   "execution_count": null,
   "metadata": {},
   "outputs": [],
   "source": [
    "head(dp02e)"
   ]
  },
  {
   "cell_type": "code",
   "execution_count": null,
   "metadata": {},
   "outputs": [],
   "source": [
    "dp02_county <- aggregate(subset(dp02e, select=c(\"TOTHH\", \"TOTPOP\", \"POP25OVER\", \"POP25GRADDEGREE\")), by=list(dp02e$COUNTY), FUN=sum)"
   ]
  },
  {
   "cell_type": "code",
   "execution_count": null,
   "metadata": {},
   "outputs": [],
   "source": [
    "head(dp02_county)\n",
    "dp02_county <- rename(dp02_county, \"COUNTY\"=\"Group.1\")"
   ]
  },
  {
   "cell_type": "code",
   "execution_count": null,
   "metadata": {},
   "outputs": [],
   "source": [
    "joined <- inner_join(dp02e, dp03e, by=c(\"TRACT\"=\"TRACT\"))"
   ]
  },
  {
   "cell_type": "code",
   "execution_count": null,
   "metadata": {},
   "outputs": [],
   "source": []
  },
  {
   "cell_type": "code",
   "execution_count": null,
   "metadata": {},
   "outputs": [],
   "source": []
  }
 ],
 "metadata": {
  "kernelspec": {
   "display_name": "R",
   "language": "R",
   "name": "ir"
  },
  "language_info": {
   "codemirror_mode": "r",
   "file_extension": ".r",
   "mimetype": "text/x-r-source",
   "name": "R",
   "pygments_lexer": "r",
   "version": "3.4.3"
  }
 },
 "nbformat": 4,
 "nbformat_minor": 2
}
